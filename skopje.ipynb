{
 "cells": [
  {
   "cell_type": "markdown",
   "metadata": {},
   "source": [
    "Here we have air pollution data for the city of Skopje.\n",
    "The measurements go back ~10 years and include 6 measuring stations. They are taken every hour but there is a lot of missing data and some station are active just since the last few years.\n",
    "Higher ratings mean worse air quality.\n",
    "Anything over 50 is considered not good. Anything over 200 is considered hazardous.\n",
    "\n",
    "Let's try to answer the following questions for the last 5 winters, a winter being the period from November including February. We are looking at the years 2013/14 until 2017/18.\n",
    "- Which have been the top 3 worst months overall?\n",
    "- Which measuring station has the highest ratings on average?\n",
    "- Make a pie chart with the average rating for each station\n",
    "- Which is the worst month per measuring station on average? Is it the same for them all?\n",
    "- Make a horizontal bar chart showing how many days in total the measurements have been over 50 for each.Same chart for over 200."
   ]
  },
  {
   "cell_type": "code",
   "execution_count": 1,
   "metadata": {},
   "outputs": [],
   "source": [
    "import pandas as pd\n",
    "from matplotlib import pyplot as plt"
   ]
  },
  {
   "cell_type": "code",
   "execution_count": 2,
   "metadata": {},
   "outputs": [],
   "source": [
    "# Read in the data\n",
    "df = pd.read_csv('pm10_data.csv')\n",
    "\n",
    "# Plot style\n",
    "plt.style.use('fivethirtyeight')"
   ]
  },
  {
   "cell_type": "code",
   "execution_count": 3,
   "metadata": {
    "scrolled": true
   },
   "outputs": [],
   "source": [
    "#Remove the hour from the time so we can groupby date\n",
    "df['time'] = df['time'].str.replace('\\s(.*)', '')"
   ]
  },
  {
   "cell_type": "code",
   "execution_count": 4,
   "metadata": {},
   "outputs": [],
   "source": [
    "# Get the mean for each day by grouping the 24 daily measurements together\n",
    "df = df.groupby('time').mean()"
   ]
  },
  {
   "cell_type": "code",
   "execution_count": 5,
   "metadata": {},
   "outputs": [],
   "source": [
    "# Create DF's for each winter\n",
    "w1314 = df['2013-11-01':'2014-02-28']\n",
    "w1415 = df['2014-11-01':'2015-02-28']\n",
    "w1516 = df['2015-11-01':'2016-02-28']\n",
    "w1617 = df['2016-11-01':'2017-02-28']\n",
    "w1718 = df['2017-11-01':'2018-02-28']"
   ]
  },
  {
   "cell_type": "code",
   "execution_count": 6,
   "metadata": {},
   "outputs": [],
   "source": [
    "# Create DF's of each month's mean\n",
    "Nov13 = df['2013-11-01':'2013-11-30'].mean()\n",
    "Nov14 = df['2014-11-01':'2014-11-30'].mean()\n",
    "Nov15 = df['2015-11-01':'2015-11-30'].mean()\n",
    "Nov16 = df['2016-11-01':'2016-11-30'].mean()\n",
    "Nov17 = df['2017-11-01':'2017-11-30'].mean()\n",
    "\n",
    "Dec13 = df['2013-12-01':'2013-12-31'].mean()\n",
    "Dec14 = df['2014-12-01':'2014-12-31'].mean()\n",
    "Dec15 = df['2015-12-01':'2015-12-31'].mean()\n",
    "Dec16 = df['2016-12-01':'2016-12-31'].mean()\n",
    "Dec17 = df['2017-12-01':'2017-12-31'].mean()\n",
    "\n",
    "Jan14 = df['2014-01-01':'2014-01-31'].mean()\n",
    "Jan15 = df['2015-01-01':'2015-01-31'].mean()\n",
    "Jan16 = df['2016-01-01':'2016-01-31'].mean()\n",
    "Jan17 = df['2017-01-01':'2017-01-31'].mean()\n",
    "Jan18 = df['2013-01-01':'2018-01-31'].mean()\n",
    "\n",
    "Feb14 = df['2014-02-01':'2014-02-28'].mean()\n",
    "Feb15 = df['2015-02-01':'2015-02-28'].mean()\n",
    "Feb16 = df['2016-02-01':'2016-02-28'].mean()\n",
    "Feb17 = df['2017-02-01':'2017-02-28'].mean()\n",
    "Feb18 = df['2013-02-01':'2018-02-28'].mean()"
   ]
  },
  {
   "cell_type": "code",
   "execution_count": 7,
   "metadata": {},
   "outputs": [],
   "source": [
    "# Create DF's for each month and get the mean toral of all measuring stations\n",
    "Nov13m = df['2013-11-01':'2013-11-30'].mean().mean()\n",
    "Nov14m = df['2014-11-01':'2014-11-30'].mean().mean()\n",
    "Nov15m = df['2015-11-01':'2015-11-30'].mean().mean()\n",
    "Nov16m = df['2016-11-01':'2016-11-30'].mean().mean()\n",
    "Nov17m = df['2017-11-01':'2017-11-30'].mean().mean()\n",
    "\n",
    "Dec13m = df['2013-12-01':'2013-12-31'].mean().mean()\n",
    "Dec14m = df['2014-12-01':'2014-12-31'].mean().mean()\n",
    "Dec15m = df['2015-12-01':'2015-12-31'].mean().mean()\n",
    "Dec16m = df['2016-12-01':'2016-12-31'].mean().mean()\n",
    "Dec17m = df['2017-12-01':'2017-12-31'].mean().mean()\n",
    "\n",
    "Jan14m = df['2014-01-01':'2014-01-31'].mean().mean()\n",
    "Jan15m = df['2015-01-01':'2015-01-31'].mean().mean()\n",
    "Jan16m = df['2016-01-01':'2016-01-31'].mean().mean()\n",
    "Jan17m = df['2017-01-01':'2017-01-31'].mean().mean()\n",
    "Jan18m = df['2013-01-01':'2018-01-31'].mean().mean()\n",
    "\n",
    "Feb14m = df['2014-02-01':'2014-02-28'].mean().mean()\n",
    "Feb15m = df['2015-02-01':'2015-02-28'].mean().mean()\n",
    "Feb16m = df['2016-02-01':'2016-02-28'].mean().mean()\n",
    "Feb17m = df['2017-02-01':'2017-02-28'].mean().mean()\n",
    "Feb18m = df['2013-02-01':'2018-02-28'].mean().mean()"
   ]
  },
  {
   "cell_type": "code",
   "execution_count": 8,
   "metadata": {},
   "outputs": [],
   "source": [
    "# Combine all winters into one DF and all months into another\n",
    "all_winters = pd.concat([w1314, w1415, w1516, w1617, w1718])\n",
    "all_months = pd.concat([Nov13, Nov14, Nov15, Nov16, Nov17, Dec13, Dec14, Dec15, Dec16, Dec17,\n",
    "                       Jan14, Jan15, Jan16, Jan17, Jan18, Feb14, Feb15, Feb16, Feb17, Feb18])"
   ]
  },
  {
   "cell_type": "code",
   "execution_count": 26,
   "metadata": {},
   "outputs": [],
   "source": [
    "# A list with mean data per month to create a series\n",
    "month_values_mean = [Nov13m, Nov14m, Nov15m, Nov16m, Nov17m, Dec13m, Dec14m, Dec15m, Dec16m, Dec17m,\n",
    "                       Jan14m, Jan15m, Jan16m, Jan17m, Jan18m, Feb14m, Feb15m, Feb16m, Feb17m, Feb18m]\n",
    "month_labels = ['Nov13', 'Nov14', 'Nov15', 'Nov16', 'Nov17', 'Dec13', 'Dec14', 'Dec15', 'Dec16', 'Dec17',\n",
    "                       'Jan14', 'Jan15', 'Jan16', 'Jan17', 'Jan18', 'Feb14', 'Feb15', 'Feb16', 'Feb17', 'Feb18']"
   ]
  },
  {
   "cell_type": "code",
   "execution_count": 27,
   "metadata": {},
   "outputs": [],
   "source": [
    "# Creating a series of the means per month\n",
    "months_mean_total = pd.Series(month_values_mean, index=month_labels)"
   ]
  },
  {
   "cell_type": "markdown",
   "metadata": {},
   "source": [
    "**Exercise 1:**\n",
    "Which have been the top 3 worst months overall?"
   ]
  },
  {
   "cell_type": "code",
   "execution_count": 28,
   "metadata": {},
   "outputs": [
    {
     "data": {
      "text/plain": [
       "Dec13    204.550607\n",
       "Jan17    175.080966\n",
       "Jan15    163.921832\n",
       "dtype: float64"
      ]
     },
     "execution_count": 28,
     "metadata": {},
     "output_type": "execute_result"
    }
   ],
   "source": [
    "months_mean_total.nlargest(3)"
   ]
  },
  {
   "cell_type": "markdown",
   "metadata": {},
   "source": [
    "**Exercise 2:** Which measuring station has the highest ratings on average?"
   ]
  },
  {
   "cell_type": "code",
   "execution_count": 29,
   "metadata": {},
   "outputs": [],
   "source": [
    "station = all_winters.mean().idxmax()\n",
    "value = all_winters.mean().max()"
   ]
  },
  {
   "cell_type": "code",
   "execution_count": 30,
   "metadata": {},
   "outputs": [
    {
     "name": "stdout",
     "output_type": "stream",
     "text": [
      "The station with the highest average is station D with an average of 157.91\n"
     ]
    }
   ],
   "source": [
    "print(f'The station with the highest average is station {station} with an average of {round(value, 2)}')"
   ]
  },
  {
   "cell_type": "markdown",
   "metadata": {},
   "source": [
    "**Exercise 3:** Make a pie chart with the average rating for each station"
   ]
  },
  {
   "cell_type": "code",
   "execution_count": 31,
   "metadata": {},
   "outputs": [],
   "source": [
    "averages = all_winters.mean()"
   ]
  },
  {
   "cell_type": "code",
   "execution_count": 32,
   "metadata": {},
   "outputs": [],
   "source": [
    "labels = averages.index"
   ]
  },
  {
   "cell_type": "code",
   "execution_count": 33,
   "metadata": {},
   "outputs": [],
   "source": [
    "# To return a value insted of the percentage we use a calculation. 'autopct' must return a function.\n",
    "def abs_values(val):\n",
    "    a = round((sum(averages) / 100) * val, 2)\n",
    "    return a"
   ]
  },
  {
   "cell_type": "code",
   "execution_count": 34,
   "metadata": {},
   "outputs": [
    {
     "data": {
      "image/png": "[encoded data removed]",
      "text/plain": [
       "<Figure size 432x288 with 1 Axes>"
      ]
     },
     "metadata": {},
     "output_type": "display_data"
    }
   ],
   "source": [
    "plt.pie(averages, labels=labels,shadow=True, startangle=90, autopct=abs_values,\n",
    "        wedgeprops={'edgecolor': 'black'}, textprops={'color': '#161b1e', 'size': 12.5, 'weight': 'bold'}) \n",
    "plt.show()"
   ]
  },
  {
   "cell_type": "markdown",
   "metadata": {},
   "source": [
    "**Exercise 4:** Which is the worst month per measuring station on average? Is it the same for them all?"
   ]
  },
  {
   "cell_type": "code",
   "execution_count": 49,
   "metadata": {},
   "outputs": [],
   "source": [
    "# Combine the montly measurements into a month total DF \n",
    "Nov = pd.DataFrame([Nov13, Nov14, Nov15, Nov16, Nov17], index=['Nov13', 'Nov14', 'Nov15', 'Nov16', 'Nov17'])\n",
    "Dec = pd.DataFrame([Dec13, Dec14, Dec15, Dec16, Dec17], index=['Dec13', 'Dec14', 'Dec15', 'Dec16', 'Dec17'])\n",
    "Jan = pd.DataFrame([Jan14, Jan15, Jan16, Jan17, Jan18], index=['Jan14', 'Jan15', 'Jan16', 'Jan17', 'Jan18'])\n",
    "Feb = pd.DataFrame([Feb14, Feb15, Feb16, Feb17, Feb18], index=['Feb14', 'Feb15', 'Feb16', 'Feb17', 'Feb18'])"
   ]
  },
  {
   "cell_type": "code",
   "execution_count": 59,
   "metadata": {},
   "outputs": [],
   "source": [
    "# Get the mean on the month basis\n",
    "n = Nov.mean()\n",
    "d = Dec.mean()\n",
    "j = Jan.mean()\n",
    "f = Feb.mean()"
   ]
  },
  {
   "cell_type": "code",
   "execution_count": 61,
   "metadata": {},
   "outputs": [],
   "source": [
    "# Create a DF from it\n",
    "months = pd.concat([n, d, j, f], axis=1, keys=['Nov', 'Dec', 'Jan', 'Feb'])"
   ]
  },
  {
   "cell_type": "code",
   "execution_count": 63,
   "metadata": {},
   "outputs": [],
   "source": [
    "# Transpose the data so idxmax returns the right index\n",
    "months = months.T"
   ]
  },
  {
   "cell_type": "code",
   "execution_count": 64,
   "metadata": {},
   "outputs": [],
   "source": [
    "# Pulling the worst month per station\n",
    "a = months['A'].idxmax()\n",
    "b = months['B'].idxmax()\n",
    "c = months['C'].idxmax()\n",
    "d = months['D'].idxmax()\n",
    "e = months['E'].idxmax()\n",
    "g = months['G'].idxmax()"
   ]
  },
  {
   "cell_type": "code",
   "execution_count": 65,
   "metadata": {},
   "outputs": [
    {
     "name": "stdout",
     "output_type": "stream",
     "text": [
      " The worst months per station are:\n",
      " A: Dec\n",
      " B: Jan\n",
      " C: Dec\n",
      " D: Dec\n",
      " E: Jan\n",
      " G: Dec\n"
     ]
    }
   ],
   "source": [
    "print(f' The worst months per station are:\\n A: {a}\\n B: {b}\\n C: {c}\\n D: {d}\\n E: {e}\\n G: {g}')"
   ]
  },
  {
   "cell_type": "markdown",
   "metadata": {},
   "source": [
    "**Exercise 5:** Make a horizontal bar chart showing how many days in total the measurements have been over 50 for each. \n",
    "Same chart for over 200."
   ]
  },
  {
   "cell_type": "code",
   "execution_count": 73,
   "metadata": {},
   "outputs": [],
   "source": [
    "# Create a frequency table to plot the chart with\n",
    "count50 = {}\n",
    "count200 = {}\n",
    "count_total = 0\n",
    "\n",
    "station = ['A', 'B', 'C', 'D', 'E', 'G']\n",
    "for c in station:\n",
    "    for n in all_winters[c]:\n",
    "        count_total += 1 / len(station)\n",
    "        if n>= 50 and n < 200:\n",
    "            if c in count50:\n",
    "                count50[c] += 1\n",
    "            else:\n",
    "                count50[c] = 1\n",
    "        elif n>= 200:\n",
    "            if c in count200:\n",
    "                count200[c] += 1\n",
    "            else:\n",
    "                count200[c] = 1"
   ]
  },
  {
   "cell_type": "code",
   "execution_count": 67,
   "metadata": {},
   "outputs": [
    {
     "data": {
      "image/png": "[encoded data removed]",
      "text/plain": [
       "<Figure size 432x288 with 1 Axes>"
      ]
     },
     "metadata": {},
     "output_type": "display_data"
    }
   ],
   "source": [
    "# Plot horizontal count 50 bar\n",
    "plt.barh(*zip(*count50.items()))\n",
    "plt.show()"
   ]
  },
  {
   "cell_type": "code",
   "execution_count": 68,
   "metadata": {},
   "outputs": [
    {
     "data": {
      "image/png": "[encoded data removed]",
      "text/plain": [
       "<Figure size 432x288 with 1 Axes>"
      ]
     },
     "metadata": {},
     "output_type": "display_data"
    }
   ],
   "source": [
    "# Plot horizontal count 200 bar\n",
    "plt.barh(*zip(*count200.items()))\n",
    "plt.show()"
   ]
  }
 ],
 "metadata": {
  "kernelspec": {
   "display_name": "Python 3",
   "language": "python",
   "name": "python3"
  },
  "language_info": {
   "codemirror_mode": {
    "name": "ipython",
    "version": 3
   },
   "file_extension": ".py",
   "mimetype": "text/x-python",
   "name": "python",
   "nbconvert_exporter": "python",
   "pygments_lexer": "ipython3",
   "version": "3.8.1"
  }
 },
 "nbformat": 4,
 "nbformat_minor": 2
}
